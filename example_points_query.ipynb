{
 "cells": [
  {
   "cell_type": "markdown",
   "id": "94faa5ce-7dc0-4c7c-8053-fe5027f855f9",
   "metadata": {},
   "source": [
    "# How to use `seanode`\n",
    "\n",
    "This package needs the `coastalmodeling_vdatum` tool, which is in a private repo. If you have access to the repo, it can be installed in a `venv` using the `requirements.txt` file in this repo.\n",
    "\n",
    "```\n",
    "python -m venv .venv\n",
    "source .venv/bin/activate\n",
    "pip install -r requirements.txt\n",
    "```"
   ]
  },
  {
   "cell_type": "markdown",
   "id": "0e18f738-6b21-4eba-b71b-5f2d9c98f68b",
   "metadata": {},
   "source": [
    "## Nowcast data"
   ]
  },
  {
   "cell_type": "code",
   "execution_count": null,
   "id": "03f5828e-63e9-4c53-969b-b82216638bef",
   "metadata": {},
   "outputs": [],
   "source": [
    "import datetime\n",
    "import pandas as pd\n",
    "from seanode.api import get_surge_model_at_stations"
   ]
  },
  {
   "cell_type": "code",
   "execution_count": null,
   "id": "14169584-de0c-42a4-b7b4-5fd8c06db1fc",
   "metadata": {},
   "outputs": [],
   "source": [
    "df_out = get_surge_model_at_stations(\n",
    "    'STOFS_2D_GLO',\n",
    "    ['cwl_bias_corrected', 'u_vel', 'v_vel'],\n",
    "    pd.Series(['8720218', '8720357', '8725114']),\n",
    "    datetime.datetime(2024,12,1,0,0),\n",
    "    datetime.datetime(2024,12,1,0,0),\n",
    "    'nowcast',\n",
    "    'points',\n",
    "    'MLLW',\n",
    "    'AWS'\n",
    ")"
   ]
  },
  {
   "cell_type": "code",
   "execution_count": null,
   "id": "bda5467a-f4a0-48c1-a59b-076b3fdb981a",
   "metadata": {},
   "outputs": [],
   "source": [
    "print(df_out)"
   ]
  },
  {
   "cell_type": "markdown",
   "id": "c2639efc-1e1a-42a5-84a2-0056ecf7ca61",
   "metadata": {},
   "source": [
    "Notes:\n",
    "- `'STOFS_2D_GLO'` is currently the only implemented model.\n",
    "- stations should be passed as a pandas series of NOS IDs.\n",
    "- the specified output datum needs to be one of the options in the `coastalmodeling_vdatum` package, or `None`."
   ]
  },
  {
   "cell_type": "markdown",
   "id": "4fa67052-58cd-408f-8fe6-708b4f4de225",
   "metadata": {},
   "source": [
    "## Forecast data"
   ]
  },
  {
   "cell_type": "code",
   "execution_count": null,
   "id": "00c0d12f-8875-46c0-b487-ae9ed363986e",
   "metadata": {},
   "outputs": [],
   "source": [
    "df_out = get_surge_model_at_stations(\n",
    "    'STOFS_2D_GLO',\n",
    "    ['cwl_bias_corrected', 'u_vel', 'v_vel'],\n",
    "    pd.Series(['8720218', '8720357', '8725114']),\n",
    "    datetime.datetime(2024,12,1,12,0),\n",
    "    None,\n",
    "    'forecast',\n",
    "    'points',\n",
    "    'MLLW',\n",
    "    'AWS'\n",
    ")"
   ]
  },
  {
   "cell_type": "code",
   "execution_count": null,
   "id": "1173235f-7c90-4cf0-b76b-240ffc858c62",
   "metadata": {},
   "outputs": [],
   "source": [
    "print(df_out)"
   ]
  },
  {
   "cell_type": "markdown",
   "id": "32b89534-fba1-4ef5-8ecb-31aef8418258",
   "metadata": {},
   "source": [
    "Notes:\n",
    "\n",
    "- end_date is ignored for forecast data; the start_date is used to define the initialization time."
   ]
  }
 ],
 "metadata": {
  "kernelspec": {
   "display_name": "Python 3 (ipykernel)",
   "language": "python",
   "name": "python3"
  },
  "language_info": {
   "codemirror_mode": {
    "name": "ipython",
    "version": 3
   },
   "file_extension": ".py",
   "mimetype": "text/x-python",
   "name": "python",
   "nbconvert_exporter": "python",
   "pygments_lexer": "ipython3",
   "version": "3.12.8"
  }
 },
 "nbformat": 4,
 "nbformat_minor": 5
}
